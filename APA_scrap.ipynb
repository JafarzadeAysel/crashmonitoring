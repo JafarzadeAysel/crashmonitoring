{
  "nbformat": 4,
  "nbformat_minor": 0,
  "metadata": {
    "colab": {
      "name": "APA_scrap.ipynb",
      "provenance": [],
      "collapsed_sections": []
    },
    "kernelspec": {
      "name": "python3",
      "display_name": "Python 3"
    },
    "language_info": {
      "name": "python"
    }
  },
  "cells": [
    {
      "cell_type": "markdown",
      "source": [
        "# Set up"
      ],
      "metadata": {
        "id": "DhZiENoyYS5x"
      }
    },
    {
      "cell_type": "code",
      "source": [
        "import requests\n",
        "from bs4 import BeautifulSoup\n",
        "import pandas as pd"
      ],
      "metadata": {
        "id": "2t6WQyKfYZ6W"
      },
      "execution_count": 30,
      "outputs": []
    },
    {
      "cell_type": "code",
      "source": [
        "base_urls = []\n",
        "for i in range(1,11):\n",
        "    base_url = 'https://apa.az/az/search-result?search=q%C9%99za&page=' + str(i)\n",
        "    base_urls.append(base_url)"
      ],
      "metadata": {
        "id": "wlw90qEsdtBC"
      },
      "execution_count": 5,
      "outputs": []
    },
    {
      "cell_type": "code",
      "source": [
        "links = []\n",
        "for url in base_urls:\n",
        "    response = requests.get(url)\n",
        "    html = response.content\n",
        "    soup = BeautifulSoup(html,'lxml')\n",
        "    news = soup.find('div',class_ = 'four_columns_block mt-site')\n",
        "    link = news.find_all('a')\n",
        "    links.append(link)"
      ],
      "metadata": {
        "id": "7tritDxFeR5P"
      },
      "execution_count": 6,
      "outputs": []
    },
    {
      "cell_type": "code",
      "source": [
        "base_sites = []\n",
        "for x in links:\n",
        "  for i in x:\n",
        "    if i.get('href') != None:\n",
        "      relative_url = i.get('href')\n",
        "      base_sites.append(relative_url)"
      ],
      "metadata": {
        "id": "vAyD0FK-eSBg"
      },
      "execution_count": 7,
      "outputs": []
    },
    {
      "cell_type": "code",
      "source": [
        "responses = []\n",
        "for link in range(len(base_sites)):\n",
        "  response = requests.get(base_sites[link])\n",
        "  if response.status_code == 200:\n",
        "    responses.append(response)"
      ],
      "metadata": {
        "id": "9vras6MOe84W"
      },
      "execution_count": 8,
      "outputs": []
    },
    {
      "cell_type": "code",
      "source": [
        "htmls = []\n",
        "for x in range(len(responses)):\n",
        "  html = responses[x].content\n",
        "  htmls.append(html)"
      ],
      "metadata": {
        "id": "boaaY0qhk_KG"
      },
      "execution_count": 9,
      "outputs": []
    },
    {
      "cell_type": "markdown",
      "source": [
        "# Choosing a parser"
      ],
      "metadata": {
        "id": "kssvPz64bCue"
      }
    },
    {
      "cell_type": "code",
      "source": [
        "soups = []\n",
        "for x in range(len(htmls)):\n",
        "  soup = BeautifulSoup(htmls[x],'lxml')\n",
        "  soups.append(soup)"
      ],
      "metadata": {
        "id": "eYlCDW5lmHZ6"
      },
      "execution_count": 13,
      "outputs": []
    },
    {
      "cell_type": "markdown",
      "source": [
        "# Obtaining the element contains all the data"
      ],
      "metadata": {
        "id": "ZkJI7w3mm-Gk"
      }
    },
    {
      "cell_type": "code",
      "source": [
        "divs = []\n",
        "for x in range(len(soups)):\n",
        "  div = soups[x].find_all('div',{'class': 'content_main'})\n",
        "  divs.append(div) "
      ],
      "metadata": {
        "id": "lmiwoyy4mHin"
      },
      "execution_count": 15,
      "outputs": []
    },
    {
      "cell_type": "markdown",
      "source": [
        "# Extracting title, date, image and text of news"
      ],
      "metadata": {
        "id": "gN4SddpsrW4o"
      }
    },
    {
      "cell_type": "code",
      "source": [
        "titles = []\n",
        "dates = []\n",
        "images = []\n",
        "texts = []\n",
        "for x in range(len(divs)):\n",
        "  title = [div.find('h1', class_ = 'title_news mb-site').text for div in divs[x]]\n",
        "  image = [div.find('img') for div in divs[x]]\n",
        "  date = [div.find('div', class_ = 'date').text for div in divs[x]]\n",
        "  text = [div.find('div', class_ = 'texts mb-site').text for div in divs[x]]\n",
        "  titles.append(title)\n",
        "  dates.append(date)\n",
        "  images.append(image)\n",
        "  texts.append(text)"
      ],
      "metadata": {
        "id": "ygqe-4Lxtxkc"
      },
      "execution_count": 16,
      "outputs": []
    },
    {
      "cell_type": "markdown",
      "source": [
        "## Titles\n"
      ],
      "metadata": {
        "id": "l9bGj0QpKZxC"
      }
    },
    {
      "cell_type": "code",
      "source": [
        "titles[:5]"
      ],
      "metadata": {
        "colab": {
          "base_uri": "https://localhost:8080/"
        },
        "id": "20tmQuT6txpl",
        "outputId": "f568971f-c50a-4bc9-8da8-d0931f4808a0"
      },
      "execution_count": 17,
      "outputs": [
        {
          "output_type": "execute_result",
          "data": {
            "text/plain": [
              "[['\\nFHN: Ötən gün 34 yanğına çıxış olub - VİDEO\\n'],\n",
              " ['\\nHindistanda qatar qəzasında 9 nəfər ölüb, 45 nəfər xəsarət alıb\\n'],\n",
              " ['\\nGəncədə piyadanı maşın vurub\\n'],\n",
              " ['\\nBakıda prospektdə piyadanı avtomobil vurub\\n'],\n",
              " ['\\nAğstafada yol qəzasında 2 nəfər xəsarət alıb\\xa0\\n']]"
            ]
          },
          "metadata": {},
          "execution_count": 17
        }
      ]
    },
    {
      "cell_type": "code",
      "source": [
        "titles_1 = [item for sublist in titles for item in sublist]\n",
        "titles2 = [title.strip('\\n') for title in titles_1]\n",
        "titles3 = [title.replace(\" - VİDEO\", '') for title in titles2]\n",
        "titles_last = [title.replace(\" - FOTO\", '') for title in titles3]\n",
        "titles_last[:5]"
      ],
      "metadata": {
        "colab": {
          "base_uri": "https://localhost:8080/"
        },
        "id": "DQ8uyOkitxxF",
        "outputId": "183c9c2a-6a14-4b6c-bb99-eb5996da8f0d"
      },
      "execution_count": 18,
      "outputs": [
        {
          "output_type": "execute_result",
          "data": {
            "text/plain": [
              "['FHN: Ötən gün 34 yanğına çıxış olub',\n",
              " 'Hindistanda qatar qəzasında 9 nəfər ölüb, 45 nəfər xəsarət alıb',\n",
              " 'Gəncədə piyadanı maşın vurub',\n",
              " 'Bakıda prospektdə piyadanı avtomobil vurub',\n",
              " 'Ağstafada yol qəzasında 2 nəfər xəsarət alıb\\xa0']"
            ]
          },
          "metadata": {},
          "execution_count": 18
        }
      ]
    },
    {
      "cell_type": "markdown",
      "source": [
        "## Dates"
      ],
      "metadata": {
        "id": "ceVKGebOR8os"
      }
    },
    {
      "cell_type": "code",
      "source": [
        "dates[:5]"
      ],
      "metadata": {
        "colab": {
          "base_uri": "https://localhost:8080/"
        },
        "id": "rCVPq-kkR-cH",
        "outputId": "ab9e9d3e-a235-4b80-db92-2ddfc7db8fd2"
      },
      "execution_count": 19,
      "outputs": [
        {
          "output_type": "execute_result",
          "data": {
            "text/plain": [
              "[['\\n\\n\\n14 yanvar 2022 10:51 (UTC +04:00)\\n\\n'],\n",
              " ['\\n\\n\\n14 yanvar 2022 10:40 (UTC +04:00)\\n\\n'],\n",
              " ['\\n\\n\\n14 yanvar 2022 09:41 (UTC +04:00)\\n\\n'],\n",
              " ['\\n\\n\\n14 yanvar 2022 05:20 (UTC +04:00)\\n\\n'],\n",
              " ['\\n\\n\\n13 yanvar 2022 21:35 (UTC +04:00)\\n\\n']]"
            ]
          },
          "metadata": {},
          "execution_count": 19
        }
      ]
    },
    {
      "cell_type": "code",
      "source": [
        "dates_1 = [item for sublist in dates for item in sublist]\n",
        "dates_last = [date.strip('\\n') for date in dates_1]\n",
        "dates_last[:5]"
      ],
      "metadata": {
        "colab": {
          "base_uri": "https://localhost:8080/"
        },
        "id": "3bie96ZIR-eL",
        "outputId": "0f7e0dc3-5068-4fe5-9a3f-cc981bcc11a8"
      },
      "execution_count": 20,
      "outputs": [
        {
          "output_type": "execute_result",
          "data": {
            "text/plain": [
              "['14 yanvar 2022 10:51 (UTC +04:00)',\n",
              " '14 yanvar 2022 10:40 (UTC +04:00)',\n",
              " '14 yanvar 2022 09:41 (UTC +04:00)',\n",
              " '14 yanvar 2022 05:20 (UTC +04:00)',\n",
              " '13 yanvar 2022 21:35 (UTC +04:00)']"
            ]
          },
          "metadata": {},
          "execution_count": 20
        }
      ]
    },
    {
      "cell_type": "markdown",
      "source": [
        "## Images"
      ],
      "metadata": {
        "id": "xcZ88RReKjj_"
      }
    },
    {
      "cell_type": "code",
      "source": [
        "images[:5]"
      ],
      "metadata": {
        "colab": {
          "base_uri": "https://localhost:8080/"
        },
        "id": "87iRO5dn7lWC",
        "outputId": "8cc62e46-76c8-4bd4-ecf0-8024d519aece"
      },
      "execution_count": 21,
      "outputs": [
        {
          "output_type": "execute_result",
          "data": {
            "text/plain": [
              "[[<img alt=\"FHN: Ötən gün 34 yanğına çıxış olub - VİDEO \" src=\"https://apa.az/storage/news/2022/january/14/big/61e11cc97842d61e11cc9784301642142921392ce29682fe1a9533b8456f7967b03f.jpg\"/>],\n",
              " [<img alt=\"Hindistanda qatar qəzasında 9 nəfər ölüb, 45 nəfər xəsarət alıb\" src=\"https://apa.az/storage/news/2022/january/14/big/61e11b056004561e11b0560046164214246961e11b056004261e11b0560044.jpg\"/>],\n",
              " [<img alt=\"Gəncədə piyadanı maşın vurub\" src=\"https://apa.az/storage/news/2022/january/14/big/61e10d54023bc61e10d54023bd1642138964174b253c3363437902ee8d7a2f377c75.jpg\"/>],\n",
              " [<img alt=\"Bakıda prospektdə piyadanı avtomobil vurub\" src=\"https://apa.az/storage/news/2022/january/14/big/61e0d0144946a61e0d0144946b164212328461e0d0144946861e0d01449469.jpg\"/>],\n",
              " [<img alt=\"Ağstafada yol qəzasında 2 nəfər xəsarət alıb \" src=\"https://apa.az/storage/news/2022/january/13/big/61e062fda0a4861e062fda0a49164209535761e062fda0a4561e062fda0a47.jpg\"/>]]"
            ]
          },
          "metadata": {},
          "execution_count": 21
        }
      ]
    },
    {
      "cell_type": "code",
      "source": [
        "images_1 = [item for sublist in images for item in sublist]\n",
        "images_2 = [str(image) for image in images_1]\n",
        "images_2[:5]"
      ],
      "metadata": {
        "colab": {
          "base_uri": "https://localhost:8080/"
        },
        "id": "Clt0p7UlN-3y",
        "outputId": "e5a41a4d-58d9-46f4-f81b-71b1c369aac6"
      },
      "execution_count": 22,
      "outputs": [
        {
          "output_type": "execute_result",
          "data": {
            "text/plain": [
              "['<img alt=\"FHN: Ötən gün 34 yanğına çıxış olub - VİDEO \" src=\"https://apa.az/storage/news/2022/january/14/big/61e11cc97842d61e11cc9784301642142921392ce29682fe1a9533b8456f7967b03f.jpg\"/>',\n",
              " '<img alt=\"Hindistanda qatar qəzasında 9 nəfər ölüb, 45 nəfər xəsarət alıb\" src=\"https://apa.az/storage/news/2022/january/14/big/61e11b056004561e11b0560046164214246961e11b056004261e11b0560044.jpg\"/>',\n",
              " '<img alt=\"Gəncədə piyadanı maşın vurub\" src=\"https://apa.az/storage/news/2022/january/14/big/61e10d54023bc61e10d54023bd1642138964174b253c3363437902ee8d7a2f377c75.jpg\"/>',\n",
              " '<img alt=\"Bakıda prospektdə piyadanı avtomobil vurub\" src=\"https://apa.az/storage/news/2022/january/14/big/61e0d0144946a61e0d0144946b164212328461e0d0144946861e0d01449469.jpg\"/>',\n",
              " '<img alt=\"Ağstafada yol qəzasında 2 nəfər xəsarət alıb\\xa0\" src=\"https://apa.az/storage/news/2022/january/13/big/61e062fda0a4861e062fda0a49164209535761e062fda0a4561e062fda0a47.jpg\"/>']"
            ]
          },
          "metadata": {},
          "execution_count": 22
        }
      ]
    },
    {
      "cell_type": "code",
      "source": [
        "images_last = []\n",
        "for x in range(len(images_2)):\n",
        "  images_3 = images_2[x].split(\"src=\",1)\n",
        "  images_4 = images_3[1]\n",
        "  images_5 = images_4.strip('/>\"')\n",
        "  images_last.append(images_5)"
      ],
      "metadata": {
        "id": "4WN3Bf3gOGVh"
      },
      "execution_count": 23,
      "outputs": []
    },
    {
      "cell_type": "code",
      "source": [
        "images_last[:5]"
      ],
      "metadata": {
        "colab": {
          "base_uri": "https://localhost:8080/"
        },
        "id": "FCm7h3U-O-y4",
        "outputId": "f455c359-80b1-4eaf-95c4-b552cae36054"
      },
      "execution_count": 24,
      "outputs": [
        {
          "output_type": "execute_result",
          "data": {
            "text/plain": [
              "['https://apa.az/storage/news/2022/january/14/big/61e11cc97842d61e11cc9784301642142921392ce29682fe1a9533b8456f7967b03f.jpg',\n",
              " 'https://apa.az/storage/news/2022/january/14/big/61e11b056004561e11b0560046164214246961e11b056004261e11b0560044.jpg',\n",
              " 'https://apa.az/storage/news/2022/january/14/big/61e10d54023bc61e10d54023bd1642138964174b253c3363437902ee8d7a2f377c75.jpg',\n",
              " 'https://apa.az/storage/news/2022/january/14/big/61e0d0144946a61e0d0144946b164212328461e0d0144946861e0d01449469.jpg',\n",
              " 'https://apa.az/storage/news/2022/january/13/big/61e062fda0a4861e062fda0a49164209535761e062fda0a4561e062fda0a47.jpg']"
            ]
          },
          "metadata": {},
          "execution_count": 24
        }
      ]
    },
    {
      "cell_type": "markdown",
      "source": [
        "## Texts"
      ],
      "metadata": {
        "id": "YkIYanMLTIjl"
      }
    },
    {
      "cell_type": "code",
      "source": [
        "texts[:5]"
      ],
      "metadata": {
        "colab": {
          "base_uri": "https://localhost:8080/"
        },
        "id": "S2TiucUdOtfq",
        "outputId": "03d19627-fa22-4fff-d709-96b66911096a"
      },
      "execution_count": 25,
      "outputs": [
        {
          "output_type": "execute_result",
          "data": {
            "text/plain": [
              "[['\\nAzərbaycan Respublikasının Fövqəladə Hallar Nazirliyi (FHN) üzərinə düşən vəzifələrinin icrası, o cümlədən əhalinin və ərazilərin təbii və texnogen xarakterli fövqəladə hallardan qorunması istiqamətində fəaliyyətini davam etdirir.\\nFHN-dən APA-ya verilən məlumata görə, “112” qaynar telefon xəttinə daxil olmuş zənglər əsasında Nazirliyin aidiyyəti qurumları tərəfindən ötən sutka ərzində 34 yanğına çıxış və 1 avtonəqliyyat qəzası faktı üzrə qəza-xilasetmə əməliyyatları həyata keçirilib. Görülmüş təcili və təxirəsalınmaz tədbirlər nəticəsində yanğınların operativ söndürülməsi, insan həyatının xilas olunması təmin edilib.\\nFHN-in qüvvələri tərəfindən Qusar rayonunda “LADA” markalı minik avtomobilinin yol kənarındakı maneəyə çırpılması nəticəsində deformasiyaya uğrayan avtonəqliyyat vasitəsində sıxılı vəziyyətdə qalmış 1 nəfər çıxarılaraq aidiyyəti üzrə təhvil verilib.\\n \\n\\n\\n Elektriklə balıq ovlayan 3 nəfər saxlanılıb - FOTO - VİDEO\\n\\n\\n Ağstafada çörək sexində yanğın olub, 2 nəfər xəsarət alıb - FOTO\\n\\n\\n Qazaxda 20 yaşlı gənc tənəffüs çatışmazlığından xəstəxanada ölub\\n\\n\\n'],\n",
              " ['\\nHindistanda qatar qəzasında 9 nəfər ölüb.\\nAPA-nın məlumatına görə, NDTV telekanalı yerli hakimiyyət orqanlarına istinadən xəbər verir ki, Quvahati-Bikaner marşrutu üzrə hərəkətdə olan sərnişin qatarı Qərbi Benqal ştatının Maynaquri rayonunda relsdən çıxıb.\\nƏn azı 12 vaqonun relsdən çıxaraq çevrilməsi nəticəsində 9 nəfər ölüb, 45 nəfər müxtəlif dərəcəli xəsarətlər alıb. Onlardan 10-nun vəziyyəti ağırdır. \\nQəzanın səbəbləri hələlik məlum deyil. \\nHadisə yerində araşdırma aparılır. \\n\\n\\n İstanbulda son bir ayda saxta spirtli içkidən 22 nəfər ölüb\\n\\n\\n İranda beş maşın toqquşub, 9 nəfər ölüb\\n\\n\\n İranda COVID-19-a yoluxanların sayı 6 195 403\\xa0nəfərə çatıb\\n\\n\\n'],\n",
              " ['\\nGəncədə piyadanın vurulması ilə nəticələnən yol qəzası baş verib.\\nAPA-nın yerli bürosunun məlumatına görə, hadisə şəhərin Atatürk prospektində qeydə alınıb.\\nHərəkətdə olan avtomobil yolu keçmək istəyən 1984-cü il təvəllüdlü Fariz İsayevi vurub.\\nPiyada xəstəxanaya yerləşdirilib, vəziyyətinin kafi olduğu bildirilir.\\nFaktla bağlı araşdırma aparılır.\\n\\n\\n Gəncədə yeniyetməni tanışı bıçaqlayıb - YENİLƏNİB\\n\\n\\n Sumqayıtda keçmiş məhkumdan heroin, “beşbarmaq” aşkar edilib\\n\\n\\n Dövlət Komissiyası: 5 erməni hərbçi qarşı tərəfə qaytarılıb - VİDEO\\n\\n\\n'],\n",
              " ['\\nAeroport şossesində yol qəzası zamanı bir nəfər xəsarət alıb.\\nAPA xəbər verir ki, hadisə şossenin Suraxanı rayonu ərazisinə düşən hissəsində qeydə alınıb.\\nBelə ki, 1991-ci il təvəllüdlü Əmirov Pərvin Kamil oğlu şossedə piyadalar üçün müəyyən edilməmiş hissədən keçərkən onu avtomobil vurub. \\nPiyada ağır xəsarət alaraq xəstəxananın reanimasiya şöbəsinə yerləşdirilib.\\n\\n\\n\\n Göygöldə baş verən qəzanın təfərrüatları məlum olub\\xa0 - FOTO - YENİLƏNİB - VİDEO\\n\\n\\n Qazaxda kişi bıçaqlanıb\\n\\n\\n Terrorçuluqda təqsirləndirilən Ermənistan vətəndaşlarının məhkəməsi keçirilib - YENİLƏNİB - VİDEO\\n\\n\\n'],\n",
              " ['\\nAğstafada yol-nəqliyyat hadisəsi baş verib.\\nAPA-nın yerli bürosunun məlumatına görə, hadisə Bakı-Qazax magistral yolunun rayonun ərazisindən keçən hissəsində qeydə alınıb.\\nHərəkətdə olan \"VAZ 2107\" markalı minik maşını ilə digər avtomobil toqquşub. Qəza zamanı 1983-cü il təvəllüdlü X.Əsgərov və 1987-ci il təvəllüdlü B.Mansırova xəsarət alaraq xəstəxanaya yerləşdirilib, yaralıların vəziyyətinin normal olduğu bildirilir.\\nFaktla bağlı araşdırma aparılır.\\n\\n\\n\\n Bərdədə dövriyyəyə saxta pul buraxan şəxs saxlanılıb\\n\\n\\n Gəncədə minik avtomobili yanıb\\n\\n\\n \\xa0Ağstafada 33 yaşlı kişi bıçaqlanıb\\n\\n\\n']]"
            ]
          },
          "metadata": {},
          "execution_count": 25
        }
      ]
    },
    {
      "cell_type": "code",
      "source": [
        "texts_1 = [item for sublist in texts for item in sublist]\n",
        "texts_2 = [text.strip('\\n') for text in texts_1]\n",
        "texts_3 = [text.replace('\\n','.') for text in texts_2]\n",
        "texts_3[:5]"
      ],
      "metadata": {
        "colab": {
          "base_uri": "https://localhost:8080/"
        },
        "id": "BN_NxTLPTLVf",
        "outputId": "1820cefb-c6fc-4e1d-e612-d257eb3f6eb2"
      },
      "execution_count": 26,
      "outputs": [
        {
          "output_type": "execute_result",
          "data": {
            "text/plain": [
              "['Azərbaycan Respublikasının Fövqəladə Hallar Nazirliyi (FHN) üzərinə düşən vəzifələrinin icrası, o cümlədən əhalinin və ərazilərin təbii və texnogen xarakterli fövqəladə hallardan qorunması istiqamətində fəaliyyətini davam etdirir..FHN-dən APA-ya verilən məlumata görə, “112” qaynar telefon xəttinə daxil olmuş zənglər əsasında Nazirliyin aidiyyəti qurumları tərəfindən ötən sutka ərzində 34 yanğına çıxış və 1 avtonəqliyyat qəzası faktı üzrə qəza-xilasetmə əməliyyatları həyata keçirilib. Görülmüş təcili və təxirəsalınmaz tədbirlər nəticəsində yanğınların operativ söndürülməsi, insan həyatının xilas olunması təmin edilib..FHN-in qüvvələri tərəfindən Qusar rayonunda “LADA” markalı minik avtomobilinin yol kənarındakı maneəyə çırpılması nəticəsində deformasiyaya uğrayan avtonəqliyyat vasitəsində sıxılı vəziyyətdə qalmış 1 nəfər çıxarılaraq aidiyyəti üzrə təhvil verilib.. ... Elektriklə balıq ovlayan 3 nəfər saxlanılıb - FOTO - VİDEO... Ağstafada çörək sexində yanğın olub, 2 nəfər xəsarət alıb - FOTO... Qazaxda 20 yaşlı gənc tənəffüs çatışmazlığından xəstəxanada ölub',\n",
              " 'Hindistanda qatar qəzasında 9 nəfər ölüb..APA-nın məlumatına görə, NDTV telekanalı yerli hakimiyyət orqanlarına istinadən xəbər verir ki, Quvahati-Bikaner marşrutu üzrə hərəkətdə olan sərnişin qatarı Qərbi Benqal ştatının Maynaquri rayonunda relsdən çıxıb..Ən azı 12 vaqonun relsdən çıxaraq çevrilməsi nəticəsində 9 nəfər ölüb, 45 nəfər müxtəlif dərəcəli xəsarətlər alıb. Onlardan 10-nun vəziyyəti ağırdır. .Qəzanın səbəbləri hələlik məlum deyil. .Hadisə yerində araşdırma aparılır. ... İstanbulda son bir ayda saxta spirtli içkidən 22 nəfər ölüb... İranda beş maşın toqquşub, 9 nəfər ölüb... İranda COVID-19-a yoluxanların sayı 6 195 403\\xa0nəfərə çatıb',\n",
              " 'Gəncədə piyadanın vurulması ilə nəticələnən yol qəzası baş verib..APA-nın yerli bürosunun məlumatına görə, hadisə şəhərin Atatürk prospektində qeydə alınıb..Hərəkətdə olan avtomobil yolu keçmək istəyən 1984-cü il təvəllüdlü Fariz İsayevi vurub..Piyada xəstəxanaya yerləşdirilib, vəziyyətinin kafi olduğu bildirilir..Faktla bağlı araşdırma aparılır.... Gəncədə yeniyetməni tanışı bıçaqlayıb - YENİLƏNİB... Sumqayıtda keçmiş məhkumdan heroin, “beşbarmaq” aşkar edilib... Dövlət Komissiyası: 5 erməni hərbçi qarşı tərəfə qaytarılıb - VİDEO',\n",
              " 'Aeroport şossesində yol qəzası zamanı bir nəfər xəsarət alıb..APA xəbər verir ki, hadisə şossenin Suraxanı rayonu ərazisinə düşən hissəsində qeydə alınıb..Belə ki, 1991-ci il təvəllüdlü Əmirov Pərvin Kamil oğlu şossedə piyadalar üçün müəyyən edilməmiş hissədən keçərkən onu avtomobil vurub. .Piyada ağır xəsarət alaraq xəstəxananın reanimasiya şöbəsinə yerləşdirilib..... Göygöldə baş verən qəzanın təfərrüatları məlum olub\\xa0 - FOTO - YENİLƏNİB - VİDEO... Qazaxda kişi bıçaqlanıb... Terrorçuluqda təqsirləndirilən Ermənistan vətəndaşlarının məhkəməsi keçirilib - YENİLƏNİB - VİDEO',\n",
              " 'Ağstafada yol-nəqliyyat hadisəsi baş verib..APA-nın yerli bürosunun məlumatına görə, hadisə Bakı-Qazax magistral yolunun rayonun ərazisindən keçən hissəsində qeydə alınıb..Hərəkətdə olan \"VAZ 2107\" markalı minik maşını ilə digər avtomobil toqquşub. Qəza zamanı 1983-cü il təvəllüdlü X.Əsgərov və 1987-ci il təvəllüdlü B.Mansırova xəsarət alaraq xəstəxanaya yerləşdirilib, yaralıların vəziyyətinin normal olduğu bildirilir..Faktla bağlı araşdırma aparılır..... Bərdədə dövriyyəyə saxta pul buraxan şəxs saxlanılıb... Gəncədə minik avtomobili yanıb... \\xa0Ağstafada 33 yaşlı kişi bıçaqlanıb']"
            ]
          },
          "metadata": {},
          "execution_count": 26
        }
      ]
    },
    {
      "cell_type": "code",
      "source": [
        "texts_last = []\n",
        "for x in range(len(texts_3)):\n",
        "  texts_4 = texts_3[x].split(\"...\",1)\n",
        "  texts_5 = texts_4[0]\n",
        "  texts_last.append(texts_5)"
      ],
      "metadata": {
        "id": "uWeZ64J_TLYG"
      },
      "execution_count": 27,
      "outputs": []
    },
    {
      "cell_type": "code",
      "source": [
        "texts_last[:5]"
      ],
      "metadata": {
        "colab": {
          "base_uri": "https://localhost:8080/"
        },
        "id": "NOOo4rY2TLax",
        "outputId": "173c42e3-2ef6-4042-a3de-130fbfa5198c"
      },
      "execution_count": 28,
      "outputs": [
        {
          "output_type": "execute_result",
          "data": {
            "text/plain": [
              "['Azərbaycan Respublikasının Fövqəladə Hallar Nazirliyi (FHN) üzərinə düşən vəzifələrinin icrası, o cümlədən əhalinin və ərazilərin təbii və texnogen xarakterli fövqəladə hallardan qorunması istiqamətində fəaliyyətini davam etdirir..FHN-dən APA-ya verilən məlumata görə, “112” qaynar telefon xəttinə daxil olmuş zənglər əsasında Nazirliyin aidiyyəti qurumları tərəfindən ötən sutka ərzində 34 yanğına çıxış və 1 avtonəqliyyat qəzası faktı üzrə qəza-xilasetmə əməliyyatları həyata keçirilib. Görülmüş təcili və təxirəsalınmaz tədbirlər nəticəsində yanğınların operativ söndürülməsi, insan həyatının xilas olunması təmin edilib..FHN-in qüvvələri tərəfindən Qusar rayonunda “LADA” markalı minik avtomobilinin yol kənarındakı maneəyə çırpılması nəticəsində deformasiyaya uğrayan avtonəqliyyat vasitəsində sıxılı vəziyyətdə qalmış 1 nəfər çıxarılaraq aidiyyəti üzrə təhvil verilib.. ',\n",
              " 'Hindistanda qatar qəzasında 9 nəfər ölüb..APA-nın məlumatına görə, NDTV telekanalı yerli hakimiyyət orqanlarına istinadən xəbər verir ki, Quvahati-Bikaner marşrutu üzrə hərəkətdə olan sərnişin qatarı Qərbi Benqal ştatının Maynaquri rayonunda relsdən çıxıb..Ən azı 12 vaqonun relsdən çıxaraq çevrilməsi nəticəsində 9 nəfər ölüb, 45 nəfər müxtəlif dərəcəli xəsarətlər alıb. Onlardan 10-nun vəziyyəti ağırdır. .Qəzanın səbəbləri hələlik məlum deyil. .Hadisə yerində araşdırma aparılır. ',\n",
              " 'Gəncədə piyadanın vurulması ilə nəticələnən yol qəzası baş verib..APA-nın yerli bürosunun məlumatına görə, hadisə şəhərin Atatürk prospektində qeydə alınıb..Hərəkətdə olan avtomobil yolu keçmək istəyən 1984-cü il təvəllüdlü Fariz İsayevi vurub..Piyada xəstəxanaya yerləşdirilib, vəziyyətinin kafi olduğu bildirilir..Faktla bağlı araşdırma aparılır',\n",
              " 'Aeroport şossesində yol qəzası zamanı bir nəfər xəsarət alıb..APA xəbər verir ki, hadisə şossenin Suraxanı rayonu ərazisinə düşən hissəsində qeydə alınıb..Belə ki, 1991-ci il təvəllüdlü Əmirov Pərvin Kamil oğlu şossedə piyadalar üçün müəyyən edilməmiş hissədən keçərkən onu avtomobil vurub. .Piyada ağır xəsarət alaraq xəstəxananın reanimasiya şöbəsinə yerləşdirilib',\n",
              " 'Ağstafada yol-nəqliyyat hadisəsi baş verib..APA-nın yerli bürosunun məlumatına görə, hadisə Bakı-Qazax magistral yolunun rayonun ərazisindən keçən hissəsində qeydə alınıb..Hərəkətdə olan \"VAZ 2107\" markalı minik maşını ilə digər avtomobil toqquşub. Qəza zamanı 1983-cü il təvəllüdlü X.Əsgərov və 1987-ci il təvəllüdlü B.Mansırova xəsarət alaraq xəstəxanaya yerləşdirilib, yaralıların vəziyyətinin normal olduğu bildirilir..Faktla bağlı araşdırma aparılır']"
            ]
          },
          "metadata": {},
          "execution_count": 28
        }
      ]
    },
    {
      "cell_type": "markdown",
      "source": [
        "# Export data in a structured form"
      ],
      "metadata": {
        "id": "AzlBgW-jHWlA"
      }
    },
    {
      "cell_type": "code",
      "source": [
        "news_info = pd.DataFrame()\n",
        "news_info['Title'] = titles_last\n",
        "news_info['Date'] = dates_last\n",
        "news_info['Image_link'] = images_last\n",
        "news_info['Text'] = texts_last\n",
        "# pd.set_option('display.max_colwidth', -1)"
      ],
      "metadata": {
        "id": "nY8KitwCVOzw"
      },
      "execution_count": 37,
      "outputs": []
    },
    {
      "cell_type": "code",
      "source": [
        "news_info.head(4)"
      ],
      "metadata": {
        "colab": {
          "base_uri": "https://localhost:8080/",
          "height": 219
        },
        "id": "QFjRGA1_2Hn0",
        "outputId": "f43b2c5a-29c2-4b2c-ffe9-42702c45ffac"
      },
      "execution_count": 34,
      "outputs": [
        {
          "output_type": "execute_result",
          "data": {
            "text/html": [
              "\n",
              "  <div id=\"df-6f9883fc-92c2-4475-921a-18b568c9c65a\">\n",
              "    <div class=\"colab-df-container\">\n",
              "      <div>\n",
              "<style scoped>\n",
              "    .dataframe tbody tr th:only-of-type {\n",
              "        vertical-align: middle;\n",
              "    }\n",
              "\n",
              "    .dataframe tbody tr th {\n",
              "        vertical-align: top;\n",
              "    }\n",
              "\n",
              "    .dataframe thead th {\n",
              "        text-align: right;\n",
              "    }\n",
              "</style>\n",
              "<table border=\"1\" class=\"dataframe\">\n",
              "  <thead>\n",
              "    <tr style=\"text-align: right;\">\n",
              "      <th></th>\n",
              "      <th>Title</th>\n",
              "      <th>Date</th>\n",
              "      <th>Image_link</th>\n",
              "      <th>Text</th>\n",
              "    </tr>\n",
              "  </thead>\n",
              "  <tbody>\n",
              "    <tr>\n",
              "      <th>0</th>\n",
              "      <td>FHN: Ötən gün 34 yanğına çıxış olub</td>\n",
              "      <td>14 yanvar 2022 10:51 (UTC +04:00)</td>\n",
              "      <td>https://apa.az/storage/news/2022/january/14/bi...</td>\n",
              "      <td>Azərbaycan Respublikasının Fövqəladə Hallar Na...</td>\n",
              "    </tr>\n",
              "    <tr>\n",
              "      <th>1</th>\n",
              "      <td>Hindistanda qatar qəzasında 9 nəfər ölüb, 45 n...</td>\n",
              "      <td>14 yanvar 2022 10:40 (UTC +04:00)</td>\n",
              "      <td>https://apa.az/storage/news/2022/january/14/bi...</td>\n",
              "      <td>Hindistanda qatar qəzasında 9 nəfər ölüb..APA-...</td>\n",
              "    </tr>\n",
              "    <tr>\n",
              "      <th>2</th>\n",
              "      <td>Gəncədə piyadanı maşın vurub</td>\n",
              "      <td>14 yanvar 2022 09:41 (UTC +04:00)</td>\n",
              "      <td>https://apa.az/storage/news/2022/january/14/bi...</td>\n",
              "      <td>Gəncədə piyadanın vurulması ilə nəticələnən yo...</td>\n",
              "    </tr>\n",
              "    <tr>\n",
              "      <th>3</th>\n",
              "      <td>Bakıda prospektdə piyadanı avtomobil vurub</td>\n",
              "      <td>14 yanvar 2022 05:20 (UTC +04:00)</td>\n",
              "      <td>https://apa.az/storage/news/2022/january/14/bi...</td>\n",
              "      <td>Aeroport şossesində yol qəzası zamanı bir nəfə...</td>\n",
              "    </tr>\n",
              "  </tbody>\n",
              "</table>\n",
              "</div>\n",
              "      <button class=\"colab-df-convert\" onclick=\"convertToInteractive('df-6f9883fc-92c2-4475-921a-18b568c9c65a')\"\n",
              "              title=\"Convert this dataframe to an interactive table.\"\n",
              "              style=\"display:none;\">\n",
              "        \n",
              "  <svg xmlns=\"http://www.w3.org/2000/svg\" height=\"24px\"viewBox=\"0 0 24 24\"\n",
              "       width=\"24px\">\n",
              "    <path d=\"M0 0h24v24H0V0z\" fill=\"none\"/>\n",
              "    <path d=\"M18.56 5.44l.94 2.06.94-2.06 2.06-.94-2.06-.94-.94-2.06-.94 2.06-2.06.94zm-11 1L8.5 8.5l.94-2.06 2.06-.94-2.06-.94L8.5 2.5l-.94 2.06-2.06.94zm10 10l.94 2.06.94-2.06 2.06-.94-2.06-.94-.94-2.06-.94 2.06-2.06.94z\"/><path d=\"M17.41 7.96l-1.37-1.37c-.4-.4-.92-.59-1.43-.59-.52 0-1.04.2-1.43.59L10.3 9.45l-7.72 7.72c-.78.78-.78 2.05 0 2.83L4 21.41c.39.39.9.59 1.41.59.51 0 1.02-.2 1.41-.59l7.78-7.78 2.81-2.81c.8-.78.8-2.07 0-2.86zM5.41 20L4 18.59l7.72-7.72 1.47 1.35L5.41 20z\"/>\n",
              "  </svg>\n",
              "      </button>\n",
              "      \n",
              "  <style>\n",
              "    .colab-df-container {\n",
              "      display:flex;\n",
              "      flex-wrap:wrap;\n",
              "      gap: 12px;\n",
              "    }\n",
              "\n",
              "    .colab-df-convert {\n",
              "      background-color: #E8F0FE;\n",
              "      border: none;\n",
              "      border-radius: 50%;\n",
              "      cursor: pointer;\n",
              "      display: none;\n",
              "      fill: #1967D2;\n",
              "      height: 32px;\n",
              "      padding: 0 0 0 0;\n",
              "      width: 32px;\n",
              "    }\n",
              "\n",
              "    .colab-df-convert:hover {\n",
              "      background-color: #E2EBFA;\n",
              "      box-shadow: 0px 1px 2px rgba(60, 64, 67, 0.3), 0px 1px 3px 1px rgba(60, 64, 67, 0.15);\n",
              "      fill: #174EA6;\n",
              "    }\n",
              "\n",
              "    [theme=dark] .colab-df-convert {\n",
              "      background-color: #3B4455;\n",
              "      fill: #D2E3FC;\n",
              "    }\n",
              "\n",
              "    [theme=dark] .colab-df-convert:hover {\n",
              "      background-color: #434B5C;\n",
              "      box-shadow: 0px 1px 3px 1px rgba(0, 0, 0, 0.15);\n",
              "      filter: drop-shadow(0px 1px 2px rgba(0, 0, 0, 0.3));\n",
              "      fill: #FFFFFF;\n",
              "    }\n",
              "  </style>\n",
              "\n",
              "      <script>\n",
              "        const buttonEl =\n",
              "          document.querySelector('#df-6f9883fc-92c2-4475-921a-18b568c9c65a button.colab-df-convert');\n",
              "        buttonEl.style.display =\n",
              "          google.colab.kernel.accessAllowed ? 'block' : 'none';\n",
              "\n",
              "        async function convertToInteractive(key) {\n",
              "          const element = document.querySelector('#df-6f9883fc-92c2-4475-921a-18b568c9c65a');\n",
              "          const dataTable =\n",
              "            await google.colab.kernel.invokeFunction('convertToInteractive',\n",
              "                                                     [key], {});\n",
              "          if (!dataTable) return;\n",
              "\n",
              "          const docLinkHtml = 'Like what you see? Visit the ' +\n",
              "            '<a target=\"_blank\" href=https://colab.research.google.com/notebooks/data_table.ipynb>data table notebook</a>'\n",
              "            + ' to learn more about interactive tables.';\n",
              "          element.innerHTML = '';\n",
              "          dataTable['output_type'] = 'display_data';\n",
              "          await google.colab.output.renderOutput(dataTable, element);\n",
              "          const docLink = document.createElement('div');\n",
              "          docLink.innerHTML = docLinkHtml;\n",
              "          element.appendChild(docLink);\n",
              "        }\n",
              "      </script>\n",
              "    </div>\n",
              "  </div>\n",
              "  "
            ],
            "text/plain": [
              "                                               Title  ...                                               Text\n",
              "0                FHN: Ötən gün 34 yanğına çıxış olub  ...  Azərbaycan Respublikasının Fövqəladə Hallar Na...\n",
              "1  Hindistanda qatar qəzasında 9 nəfər ölüb, 45 n...  ...  Hindistanda qatar qəzasında 9 nəfər ölüb..APA-...\n",
              "2                       Gəncədə piyadanı maşın vurub  ...  Gəncədə piyadanın vurulması ilə nəticələnən yo...\n",
              "3         Bakıda prospektdə piyadanı avtomobil vurub  ...  Aeroport şossesində yol qəzası zamanı bir nəfə...\n",
              "\n",
              "[4 rows x 4 columns]"
            ]
          },
          "metadata": {},
          "execution_count": 34
        }
      ]
    },
    {
      "cell_type": "code",
      "source": [
        "news_info.to_excel('news_info.xlsx',index = False, header = True)"
      ],
      "metadata": {
        "id": "AFURQjQp2OUh"
      },
      "execution_count": 39,
      "outputs": []
    }
  ]
}